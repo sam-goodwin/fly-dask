{
 "cells": [
  {
   "cell_type": "code",
   "execution_count": 1,
   "metadata": {},
   "outputs": [],
   "source": [
    "from dask.distributed import Client\n",
    "from dotenv import load_dotenv\n",
    "from fly_dask import FlyMachineCluster\n",
    "from fly_dask.sdk.constants import FlyRegion, MachineSize\n",
    "import dask.array as da\n",
    "import os"
   ]
  },
  {
   "cell_type": "code",
   "execution_count": 2,
   "metadata": {},
   "outputs": [],
   "source": [
    "load_dotenv()\n",
    "\n",
    "FLY_TOKEN = os.environ[\"FLY_TOKEN\"]\n",
    "if not FLY_TOKEN:\n",
    "    raise ValueError(\"FLY_TOKEN is required\")"
   ]
  },
  {
   "cell_type": "code",
   "execution_count": 3,
   "metadata": {},
   "outputs": [
    {
     "name": "stdout",
     "output_type": "stream",
     "text": [
      "Starting scheduler on dask-0a34e3fc-scheduler\n",
      "Creating scheduler instance\n",
      "[fly.io] Created machine name=dask-0a34e3fc-scheduler machine=7811e15c545218 internal_ip=fdaa:8:4332:a7b:1da:f23:7197:2 address=tcp://[fdaa:8:4332:a7b:1da:f23:7197:2]:8786\n",
      "Waiting for scheduler to run at tcp://[fdaa:8:4332:a7b:1da:f23:7197:2]:8786\n",
      "Scheduler is running\n",
      "Scheduler running at tcp://[fdaa:8:4332:a7b:1da:f23:7197:2]:8786\n"
     ]
    },
    {
     "name": "stderr",
     "output_type": "stream",
     "text": [
      "/Users/sam/.pyenv/versions/3.10.13/lib/python3.10/contextlib.py:142: UserWarning: Creating your cluster is taking a surprisingly long time. This is likely due to pending resources. Hang tight! \n",
      "  next(self.gen)\n"
     ]
    },
    {
     "name": "stdout",
     "output_type": "stream",
     "text": [
      "Creating worker instance\n",
      "[fly.io] Created machine name=dask-0a34e3fc-worker-51fff697 machine=e82de06a241938 internal_ip=fdaa:8:4332:a7b:1a7:f23c:211a:2 address=tcp://[fdaa:8:4332:a7b:1a7:f23c:211a:2]:8786\n",
      "Dashboard: http://[fdaa:8:4332:a7b:1da:f23:7197:2]:8787/status\n"
     ]
    }
   ],
   "source": [
    "cluster = FlyMachineCluster(\n",
    "    \"packyak-test\",\n",
    "    api_token=FLY_TOKEN,\n",
    "    n_workers=1,\n",
    "    cpus=8,\n",
    "    memory_mb=16 * 1024,\n",
    "    vm_size=MachineSize.PERFORMANCE_16X,\n",
    "    image=\"registry.fly.io/packyak-test:test\",\n",
    "    region=FlyRegion.IAD,\n",
    ")\n",
    "client = Client(cluster)\n",
    "print(f\"Dashboard: {cluster.dashboard_link}\")\n"
   ]
  },
  {
   "cell_type": "code",
   "execution_count": 4,
   "metadata": {},
   "outputs": [
    {
     "name": "stdout",
     "output_type": "stream",
     "text": [
      "Creating worker instance\n",
      "Creating worker instance\n",
      "Creating worker instance\n"
     ]
    },
    {
     "name": "stdout",
     "output_type": "stream",
     "text": [
      "Creating worker instance\n",
      "Creating worker instance\n",
      "Creating worker instance\n",
      "Creating worker instance\n",
      "Creating worker instance\n",
      "Creating worker instance\n",
      "Creating worker instance\n",
      "Creating worker instance\n",
      "Creating worker instance\n",
      "Creating worker instance\n",
      "Creating worker instance\n",
      "Creating worker instance\n",
      "Creating worker instance\n",
      "Creating worker instance\n",
      "Creating worker instance\n",
      "Creating worker instance\n",
      "Creating worker instance\n",
      "Creating worker instance\n",
      "Creating worker instance\n",
      "Creating worker instance\n",
      "Creating worker instance\n",
      "Creating worker instance\n",
      "Creating worker instance\n",
      "Creating worker instance\n",
      "Creating worker instance\n",
      "Creating worker instance\n",
      "[fly.io] Created machine name=dask-0a34e3fc-worker-6792b4e3 machine=d891144c474ee8 internal_ip=fdaa:8:4332:a7b:dc:2755:62:2 address=tcp://[fdaa:8:4332:a7b:dc:2755:62:2]:8786\n",
      "[fly.io] Created machine name=dask-0a34e3fc-worker-31d8bc2b machine=2865905a7431d8 internal_ip=fdaa:8:4332:a7b:1c5:c7a9:6fec:2 address=tcp://[fdaa:8:4332:a7b:1c5:c7a9:6fec:2]:8786\n",
      "[fly.io] Created machine name=dask-0a34e3fc-worker-ec49ad54 machine=080e334c134198 internal_ip=fdaa:8:4332:a7b:1dc:e97c:c9aa:2 address=tcp://[fdaa:8:4332:a7b:1dc:e97c:c9aa:2]:8786\n",
      "[fly.io] Created machine name=dask-0a34e3fc-worker-f928563b machine=784ee79f400658 internal_ip=fdaa:8:4332:a7b:dd:76f5:72a2:2 address=tcp://[fdaa:8:4332:a7b:dd:76f5:72a2:2]:8786\n",
      "[fly.io] Created machine name=dask-0a34e3fc-worker-6abc4156 machine=683d554ad59d28 internal_ip=fdaa:8:4332:a7b:1dc:9ebc:9b6:2 address=tcp://[fdaa:8:4332:a7b:1dc:9ebc:9b6:2]:8786\n",
      "[fly.io] Created machine name=dask-0a34e3fc-worker-c972a0c2 machine=48e5369b773ed8 internal_ip=fdaa:8:4332:a7b:23e:78b1:2f1f:2 address=tcp://[fdaa:8:4332:a7b:23e:78b1:2f1f:2]:8786\n",
      "[fly.io] Created machine name=dask-0a34e3fc-worker-8ba660fd machine=2865906b701dd8 internal_ip=fdaa:8:4332:a7b:1c6:1a89:abc3:2 address=tcp://[fdaa:8:4332:a7b:1c6:1a89:abc3:2]:8786\n",
      "[fly.io] Created machine name=dask-0a34e3fc-worker-808cd161 machine=080ee75f1772e8 internal_ip=fdaa:8:4332:a7b:dd:d999:9eb7:2 address=tcp://[fdaa:8:4332:a7b:dd:d999:9eb7:2]:8786\n",
      "[fly.io] Created machine name=dask-0a34e3fc-worker-dae7c72d machine=d891316be06918 internal_ip=fdaa:8:4332:a7b:1b8:b4de:721:2 address=tcp://[fdaa:8:4332:a7b:1b8:b4de:721:2]:8786\n",
      "[fly.io] Created machine name=dask-0a34e3fc-worker-7164edba machine=080e337f1341e8 internal_ip=fdaa:8:4332:a7b:1dd:d054:daa9:2 address=tcp://[fdaa:8:4332:a7b:1dd:d054:daa9:2]:8786\n",
      "[fly.io] Created machine name=dask-0a34e3fc-worker-59777b7e machine=78423eec202228 internal_ip=fdaa:8:4332:a7b:22c:cbae:727:2 address=tcp://[fdaa:8:4332:a7b:22c:cbae:727:2]:8786\n",
      "[fly.io] Created machine name=dask-0a34e3fc-worker-43fc25ed machine=1852e64a434268 internal_ip=fdaa:8:4332:a7b:22a:28d:a106:2 address=tcp://[fdaa:8:4332:a7b:22a:28d:a106:2]:8786\n",
      "[fly.io] Created machine name=dask-0a34e3fc-worker-1850f012 machine=d891d11c475278 internal_ip=fdaa:8:4332:a7b:f6:4cbe:777d:2 address=tcp://[fdaa:8:4332:a7b:f6:4cbe:777d:2]:8786\n",
      "[fly.io] Created machine name=dask-0a34e3fc-worker-29fe697b machine=1857497c1590e8 internal_ip=fdaa:8:4332:a7b:1c5:10ae:52a7:2 address=tcp://[fdaa:8:4332:a7b:1c5:10ae:52a7:2]:8786\n",
      "[fly.io] Created machine name=dask-0a34e3fc-worker-2bc315f5 machine=48ed0d3b120378 internal_ip=fdaa:8:4332:a7b:1b7:ad9:e836:2 address=tcp://[fdaa:8:4332:a7b:1b7:ad9:e836:2]:8786\n",
      "[fly.io] Created machine name=dask-0a34e3fc-worker-1ad55ec5 machine=1852354f4de758 internal_ip=fdaa:8:4332:a7b:240:958d:1a6b:2 address=tcp://[fdaa:8:4332:a7b:240:958d:1a6b:2]:8786\n",
      "[fly.io] Created machine name=dask-0a34e3fc-worker-74d2228e machine=1852309c4227e8 internal_ip=fdaa:8:4332:a7b:23d:c6be:aa78:2 address=tcp://[fdaa:8:4332:a7b:23d:c6be:aa78:2]:8786\n",
      "[fly.io] Created machine name=dask-0a34e3fc-worker-91e85a46 machine=7811e91a501398 internal_ip=fdaa:8:4332:a7b:1c5:f8e0:6bb6:2 address=tcp://[fdaa:8:4332:a7b:1c5:f8e0:6bb6:2]:8786\n",
      "[fly.io] Created machine name=dask-0a34e3fc-worker-a75e4965 machine=7816474a940e18 internal_ip=fdaa:8:4332:a7b:23b:23d3:9a57:2 address=tcp://[fdaa:8:4332:a7b:23b:23d3:9a57:2]:8786\n",
      "[fly.io] Created machine name=dask-0a34e3fc-worker-3261c4fb machine=48ed006a306358 internal_ip=fdaa:8:4332:a7b:1dc:80eb:1af7:2 address=tcp://[fdaa:8:4332:a7b:1dc:80eb:1af7:2]:8786\n",
      "[fly.io] Created machine name=dask-0a34e3fc-worker-49e4bd86 machine=2866e14cee7448 internal_ip=fdaa:8:4332:a7b:23e:59f6:387e:2 address=tcp://[fdaa:8:4332:a7b:23e:59f6:387e:2]:8786\n",
      "[fly.io] Created machine name=dask-0a34e3fc-worker-9790a48b machine=e82dd77f0d02e8 internal_ip=fdaa:8:4332:a7b:dc:79c0:1b1a:2 address=tcp://[fdaa:8:4332:a7b:dc:79c0:1b1a:2]:8786\n",
      "[fly.io] Created machine name=dask-0a34e3fc-worker-ffc6661a machine=e82d6d9f237118 internal_ip=fdaa:8:4332:a7b:1b8:4a23:4185:2 address=tcp://[fdaa:8:4332:a7b:1b8:4a23:4185:2]:8786\n",
      "[fly.io] Created machine name=dask-0a34e3fc-worker-276ccae2 machine=9080515b191d28 internal_ip=fdaa:8:4332:a7b:9d36:6ed:81d:2 address=tcp://[fdaa:8:4332:a7b:9d36:6ed:81d:2]:8786\n",
      "[fly.io] Created machine name=dask-0a34e3fc-worker-82421e69 machine=d891361a4039e8 internal_ip=fdaa:8:4332:a7b:1c5:4f9c:e806:2 address=tcp://[fdaa:8:4332:a7b:1c5:4f9c:e806:2]:8786\n",
      "[fly.io] Created machine name=dask-0a34e3fc-worker-70b39234 machine=e784936a4209e8 internal_ip=fdaa:8:4332:a7b:9d35:e92d:7dad:2 address=tcp://[fdaa:8:4332:a7b:9d35:e92d:7dad:2]:8786\n",
      "[fly.io] Created machine name=dask-0a34e3fc-worker-08b34cc3 machine=d8d9239c294628 internal_ip=fdaa:8:4332:a7b:1c5:4082:d692:2 address=tcp://[fdaa:8:4332:a7b:1c5:4082:d692:2]:8786\n",
      "[fly.io] Created machine name=dask-0a34e3fc-worker-957fd816 machine=1852356b441568 internal_ip=fdaa:8:4332:a7b:23e:8d4a:29c4:2 address=tcp://[fdaa:8:4332:a7b:23e:8d4a:29c4:2]:8786\n",
      "[fly.io] Created machine name=dask-0a34e3fc-worker-78ef3b57 machine=e82d69df0341e8 internal_ip=fdaa:8:4332:a7b:1c5:fa0a:9c05:2 address=tcp://[fdaa:8:4332:a7b:1c5:fa0a:9c05:2]:8786\n"
     ]
    }
   ],
   "source": [
    "cluster.scale(30)"
   ]
  },
  {
   "cell_type": "code",
   "execution_count": 5,
   "metadata": {},
   "outputs": [
    {
     "name": "stdout",
     "output_type": "stream",
     "text": [
      "[fly.io] Terminated machine dask-0a34e3fc-worker-2bc315f5\n",
      "[fly.io] Terminated machine dask-0a34e3fc-worker-f928563b\n",
      "[fly.io] Terminated machine dask-0a34e3fc-worker-808cd161\n",
      "[fly.io] Terminated machine dask-0a34e3fc-worker-43fc25ed\n",
      "[fly.io] Terminated machine dask-0a34e3fc-worker-9790a48b\n",
      "[fly.io] Terminated machine dask-0a34e3fc-worker-59777b7e\n",
      "[fly.io] Terminated machine dask-0a34e3fc-worker-91e85a46\n",
      "[fly.io] Terminated machine dask-0a34e3fc-worker-78ef3b57\n",
      "[fly.io] Terminated machine dask-0a34e3fc-worker-51fff697\n",
      "[fly.io] Terminated machine dask-0a34e3fc-worker-a75e4965\n",
      "[fly.io] Terminated machine dask-0a34e3fc-worker-dae7c72d\n",
      "[fly.io] Terminated machine dask-0a34e3fc-worker-74d2228e\n",
      "[fly.io] Terminated machine dask-0a34e3fc-worker-08b34cc3\n",
      "[fly.io] Terminated machine dask-0a34e3fc-worker-c972a0c2\n",
      "[fly.io] Terminated machine dask-0a34e3fc-worker-1ad55ec5\n",
      "[fly.io] Terminated machine dask-0a34e3fc-worker-82421e69\n",
      "[fly.io] Terminated machine dask-0a34e3fc-worker-ffc6661a\n",
      "[fly.io] Terminated machine dask-0a34e3fc-worker-6abc4156\n",
      "[fly.io] Terminated machine dask-0a34e3fc-worker-49e4bd86\n",
      "[fly.io] Terminated machine dask-0a34e3fc-worker-31d8bc2b\n",
      "[fly.io] Terminated machine dask-0a34e3fc-worker-7164edba\n",
      "[fly.io] Terminated machine dask-0a34e3fc-worker-957fd816\n",
      "[fly.io] Terminated machine dask-0a34e3fc-worker-ec49ad54\n",
      "[fly.io] Terminated machine dask-0a34e3fc-worker-29fe697b\n",
      "[fly.io] Terminated machine dask-0a34e3fc-worker-3261c4fb\n",
      "[fly.io] Terminated machine dask-0a34e3fc-worker-8ba660fd\n",
      "[fly.io] Terminated machine dask-0a34e3fc-worker-6792b4e3\n",
      "[fly.io] Terminated machine dask-0a34e3fc-worker-276ccae2\n",
      "[fly.io] Terminated machine dask-0a34e3fc-worker-70b39234\n"
     ]
    }
   ],
   "source": [
    "cluster.scale(1)"
   ]
  },
  {
   "cell_type": "code",
   "execution_count": 6,
   "metadata": {},
   "outputs": [
    {
     "name": "stdout",
     "output_type": "stream",
     "text": [
      "0.5000020084652507\n"
     ]
    }
   ],
   "source": [
    "arr = da.random.random((1000, 1000), chunks=(100, 100))\n",
    "mean = arr.mean().compute()\n",
    "print(mean)"
   ]
  },
  {
   "cell_type": "code",
   "execution_count": 7,
   "metadata": {},
   "outputs": [
    {
     "name": "stdout",
     "output_type": "stream",
     "text": [
      "[fly.io] Terminated machine dask-0a34e3fc-worker-1850f012\n",
      "[fly.io] Terminated machine dask-0a34e3fc-scheduler\n"
     ]
    }
   ],
   "source": [
    "client.close()\n",
    "cluster.close()"
   ]
  }
 ],
 "metadata": {
  "kernelspec": {
   "display_name": ".venv",
   "language": "python",
   "name": "python3"
  },
  "language_info": {
   "codemirror_mode": {
    "name": "ipython",
    "version": 3
   },
   "file_extension": ".py",
   "mimetype": "text/x-python",
   "name": "python",
   "nbconvert_exporter": "python",
   "pygments_lexer": "ipython3",
   "version": "3.10.13"
  }
 },
 "nbformat": 4,
 "nbformat_minor": 2
}
